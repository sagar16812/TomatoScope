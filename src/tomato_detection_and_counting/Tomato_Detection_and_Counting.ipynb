{
  "nbformat": 4,
  "nbformat_minor": 0,
  "metadata": {
    "colab": {
      "provenance": []
    },
    "kernelspec": {
      "name": "python3",
      "display_name": "Python 3"
    },
    "language_info": {
      "name": "python"
    }
  },
  "cells": [
    {
      "cell_type": "markdown",
      "source": [
        "## 0. Connect Google Drive"
      ],
      "metadata": {
        "id": "xszYYGiKaMof"
      }
    },
    {
      "cell_type": "code",
      "source": [
        "import os\n",
        "from google.colab import drive\n",
        "drive.mount('/gdrive')\n",
        "\n",
        "!ls /gdrive"
      ],
      "metadata": {
        "colab": {
          "base_uri": "https://localhost:8080/"
        },
        "id": "1cGVGOqnaShe",
        "outputId": "43320a4b-a2a4-480d-f7c2-2de0b8aaf0a6"
      },
      "execution_count": 15,
      "outputs": [
        {
          "output_type": "stream",
          "name": "stdout",
          "text": [
            "Drive already mounted at /gdrive; to attempt to forcibly remount, call drive.mount(\"/gdrive\", force_remount=True).\n",
            "MyDrive\n"
          ]
        }
      ]
    },
    {
      "cell_type": "markdown",
      "source": [
        "## 1. Download the Dataset\n",
        "Here we will use the `LaboroTomato` Dataset from the [laboro.ai](laboro.ai). For more details checkout their [github](https://github.com/laboroai/LaboroTomato?tab=readme-ov-file).**bold text**\n",
        "```\n",
        "name: tomato_mixed\n",
        "images: 643 train, 161 test\n",
        "cls_num: 6\n",
        "cls_names: b_fully_ripened, b_half_ripened, b_green, l_fully_ripened, l_half_ripened, l_green\n",
        "total_bboxes: train[7781], test[1,996]\n",
        "bboxes_per_class:\n",
        "    *Train: b_fully_ripened[348], b_half_ripened[520], b_green[1467],\n",
        "            l_fully_ripened[982], l_half_ripened[797], l_green[3667]\n",
        "    *Test:  b_fully_ripened[72], b_half_ripened[116], b_green[387],\n",
        "            l_fully_ripened[269], l_half_ripened[223], l_green[929]\n",
        "image_resolutions: 3024x4032, 3120x4160\n",
        "```"
      ],
      "metadata": {
        "id": "Ee0whJ5DWGFc"
      }
    },
    {
      "cell_type": "code",
      "source": [
        "# Download & extract dataset in Colab\n",
        "\n",
        "# If dataset is from URL\n",
        "!wget -q -O laboro_tomato.zip \"http://assets.laboro.ai.s3.amazonaws.com/laborotomato/laboro_tomato.zip\"\n",
        "!unzip -q laboro_tomato.zip -d laboro_tomato\n",
        "!rm laboro_tomato.zip\n",
        "\n",
        "print(\"Dataset extracted to ./laboro_tomato\")\n",
        "# If from Google Drive\n",
        "# from google.colab import drive; drive.mount('/content/drive')\n",
        "# !unzip -q \"/content/drive/MyDrive/path_to_dataset.zip\" -d {dataset_dir}\n",
        "\n",
        "print(f\"Dataset ready at laboro_tomato\")\n"
      ],
      "metadata": {
        "colab": {
          "base_uri": "https://localhost:8080/"
        },
        "id": "InPA-Z6qXmuH",
        "outputId": "55dd83ac-0071-43e0-bb4c-ff0bb20a5803"
      },
      "execution_count": null,
      "outputs": [
        {
          "output_type": "stream",
          "name": "stdout",
          "text": [
            "Dataset extracted to ./laboro_tomato\n",
            "Dataset ready at laboro_tomato\n"
          ]
        }
      ]
    },
    {
      "cell_type": "markdown",
      "source": [
        "## 2. Create a new directory in your google drive"
      ],
      "metadata": {
        "id": "qzssrQ7HfOAY"
      }
    },
    {
      "cell_type": "code",
      "source": [
        "# Create new directory for reformatted dataset\n",
        "output_dir = '/gdrive/MyDrive/Datasets/laboro_tomato_yolov8-seg-format'\n",
        "os.makedirs(output_dir, exist_ok=True)\n",
        "\n",
        "print(f\"Created directory: {output_dir}\")"
      ],
      "metadata": {
        "id": "bV--ii6hfJ5j",
        "colab": {
          "base_uri": "https://localhost:8080/"
        },
        "outputId": "e0ca40ff-93e9-4064-9089-072d35b1b9c4"
      },
      "execution_count": 16,
      "outputs": [
        {
          "output_type": "stream",
          "name": "stdout",
          "text": [
            "Created directory: /gdrive/MyDrive/Datasets/laboro_tomato_yolov8-seg-format\n"
          ]
        }
      ]
    },
    {
      "cell_type": "code",
      "source": [
        "!ls /gdrive"
      ],
      "metadata": {
        "colab": {
          "base_uri": "https://localhost:8080/"
        },
        "id": "dJPE1kCRjR63",
        "outputId": "774207c6-cdd8-4dac-ca5e-9efc2e15dd23"
      },
      "execution_count": 12,
      "outputs": [
        {
          "output_type": "stream",
          "name": "stdout",
          "text": [
            "MyDrive\n"
          ]
        }
      ]
    },
    {
      "cell_type": "markdown",
      "source": [
        "## 3. Reformat as according to YOLOv8-seg"
      ],
      "metadata": {
        "id": "uHQEMOdOXdHw"
      }
    },
    {
      "cell_type": "code",
      "source": [
        "import json\n",
        "import shutil\n",
        "from pathlib import Path\n",
        "\n",
        "def coco_to_yolo_seg(coco_json_path, images_dir, output_images_dir, output_labels_dir):\n",
        "    \"\"\"\n",
        "    Convert COCO-format instance segmentation to YOLOv8-seg format and copy images.\n",
        "    \"\"\"\n",
        "    # Load COCO JSON\n",
        "    with open(coco_json_path, 'r') as f:\n",
        "        coco_data = json.load(f)\n",
        "\n",
        "    # Build ID → filename lookup\n",
        "    image_lookup = {img[\"id\"]: img for img in coco_data[\"images\"]}\n",
        "\n",
        "    # Create output dirs\n",
        "    os.makedirs(output_images_dir, exist_ok=True)\n",
        "    os.makedirs(output_labels_dir, exist_ok=True)\n",
        "\n",
        "    # Group annotations by image\n",
        "    annotations_by_image = {}\n",
        "    for ann in coco_data[\"annotations\"]:\n",
        "        img_id = ann[\"image_id\"]\n",
        "        annotations_by_image.setdefault(img_id, []).append(ann)\n",
        "\n",
        "    for img_id, anns in annotations_by_image.items():\n",
        "        img_info = image_lookup[img_id]\n",
        "        src_img_path = Path(images_dir) / img_info[\"file_name\"]\n",
        "\n",
        "        if not src_img_path.exists():\n",
        "            print(f\"Warning: Image not found: {src_img_path}\")\n",
        "            continue\n",
        "\n",
        "        # Copy image to YOLO dataset folder\n",
        "        dst_img_path = Path(output_images_dir) / src_img_path.name\n",
        "        shutil.copy2(src_img_path, dst_img_path)\n",
        "\n",
        "        width = img_info[\"width\"]\n",
        "        height = img_info[\"height\"]\n",
        "\n",
        "        # Create label file path\n",
        "        label_filename = Path(img_info[\"file_name\"]).with_suffix(\".txt\")\n",
        "        label_path = Path(output_labels_dir) / label_filename\n",
        "\n",
        "        with open(label_path, 'w') as lf:\n",
        "            for ann in anns:\n",
        "                class_id = ann[\"category_id\"] - 1  # YOLO classes start at 0\n",
        "\n",
        "                for seg in ann[\"segmentation\"]:\n",
        "                    norm_coords = []\n",
        "                    for i in range(0, len(seg), 2):\n",
        "                        x = seg[i] / width\n",
        "                        y = seg[i + 1] / height\n",
        "                        norm_coords.extend([x, y])\n",
        "\n",
        "                    lf.write(f\"{class_id} \" + \" \".join(f\"{v:.6f}\" for v in norm_coords) + \"\\n\")\n",
        "\n",
        "    return coco_data[\"categories\"]  # Return categories for data.yaml creation\n",
        "\n",
        "\n",
        "def create_data_yaml(categories, dataset_path):\n",
        "    \"\"\"\n",
        "    Create YOLOv8 data.yaml file.\n",
        "    \"\"\"\n",
        "    names = [cat[\"name\"] for cat in categories]\n",
        "    yaml_content = f\"\"\"train: {dataset_path}/train/images\n",
        "val: {dataset_path}/test/images\n",
        "\n",
        "nc: {len(names)}\n",
        "names: {names}\n",
        "\"\"\"\n",
        "    with open(Path(dataset_path) / \"data.yaml\", \"w\") as f:\n",
        "        f.write(yaml_content)\n",
        "    print(f\"data.yaml created at {Path(dataset_path) / 'data.yaml'}\")\n",
        "\n",
        "\n",
        "if __name__ == \"__main__\":\n",
        "    # Original dataset root\n",
        "    dataset_root = Path(\"laboro_tomato/laboro_tomato\")\n",
        "\n",
        "    # Output YOLOv8 dataset root\n",
        "    yolo_dataset_root = Path(\"/gdrive/MyDrive/Datasets/laboro_tomato_yolov8-seg-format\")\n",
        "\n",
        "    # Train\n",
        "    categories = coco_to_yolo_seg(\n",
        "        coco_json_path=dataset_root / \"annotations\" / \"train.json\",\n",
        "        images_dir=dataset_root / \"train\",\n",
        "        output_images_dir=yolo_dataset_root / \"train\" / \"images\",\n",
        "        output_labels_dir=yolo_dataset_root / \"train\" / \"labels\"\n",
        "    )\n",
        "\n",
        "    # Test\n",
        "    coco_to_yolo_seg(\n",
        "        coco_json_path=dataset_root / \"annotations\" / \"test.json\",\n",
        "        images_dir=dataset_root / \"test\",\n",
        "        output_images_dir=yolo_dataset_root / \"test\" / \"images\",\n",
        "        output_labels_dir=yolo_dataset_root / \"test\" / \"labels\"\n",
        "    )\n",
        "\n",
        "    # Create data.yaml\n",
        "    create_data_yaml(categories, yolo_dataset_root)\n",
        "\n",
        "    print(f\"YOLOv8 dataset prepared at: {yolo_dataset_root.resolve()}\")\n"
      ],
      "metadata": {
        "id": "-C857LlTWQZX",
        "colab": {
          "base_uri": "https://localhost:8080/"
        },
        "outputId": "845136cb-61f3-4f62-eb80-c6725f503061"
      },
      "execution_count": 17,
      "outputs": [
        {
          "output_type": "stream",
          "name": "stdout",
          "text": [
            "data.yaml created at /gdrive/MyDrive/Datasets/laboro_tomato_yolov8-seg-format/data.yaml\n",
            "YOLOv8 dataset prepared at: /gdrive/MyDrive/Datasets/laboro_tomato_yolov8-seg-format\n"
          ]
        }
      ]
    }
  ]
}